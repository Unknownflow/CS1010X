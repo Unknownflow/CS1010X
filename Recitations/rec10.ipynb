{
 "cells": [
  {
   "cell_type": "code",
   "execution_count": 86,
   "metadata": {},
   "outputs": [
    {
     "name": "stdout",
     "output_type": "stream",
     "text": [
      "Computing cc(10, 5)\n",
      "Computing cc(10, 4)\n",
      "Computing cc(10, 3)\n",
      "Computing cc(10, 2)\n",
      "Computing cc(10, 1)\n",
      "Computing cc(9, 1)\n",
      "Computing cc(8, 1)\n",
      "Computing cc(7, 1)\n",
      "Computing cc(6, 1)\n",
      "Computing cc(5, 1)\n",
      "Computing cc(4, 1)\n",
      "Computing cc(3, 1)\n",
      "Computing cc(2, 1)\n",
      "Computing cc(1, 1)\n",
      "Computing cc(5, 2)\n",
      "4\n"
     ]
    }
   ],
   "source": [
    "# q1a memoized ver of cc\n",
    "\n",
    "def cc(amount, kind_of_coins):\n",
    "  table = {}\n",
    "  coins = [1, 5, 10, 20, 50]\n",
    "  def helper(amount, kind_of_coins):\n",
    "    if amount < 0:\n",
    "      return 0\n",
    "    elif kind_of_coins == 0:\n",
    "      return 0\n",
    "    elif amount == 0:\n",
    "      return 1\n",
    "    if (amount, kind_of_coins) in table:\n",
    "      return table[(amount, kind_of_coins)]\n",
    "    else:\n",
    "      print(f\"Computing cc({amount}, {kind_of_coins})\")\n",
    "      table[(amount, kind_of_coins)] = helper(amount, kind_of_coins-1) + \\\n",
    "        helper(amount-coins[kind_of_coins-1], kind_of_coins)\n",
    "      \n",
    "      return table[(amount, kind_of_coins)]\n",
    "  return helper(amount, kind_of_coins)\n",
    "\n",
    "print(cc(10, 5))\n",
    "# print(cc(100, 5))"
   ]
  },
  {
   "cell_type": "code",
   "execution_count": 90,
   "metadata": {},
   "outputs": [
    {
     "name": "stdout",
     "output_type": "stream",
     "text": [
      "4\n",
      "343\n"
     ]
    }
   ],
   "source": [
    "# q1b dp ver of cc\n",
    "\n",
    "def cc(amount, kind_of_coins):\n",
    "  dp = [[0 for j in range(kind_of_coins)] for i in range(amount+1)]\n",
    "  coins = (1,5,10,20,50)\n",
    "  for i in range(kind_of_coins):\n",
    "    dp[0][i] = 1\n",
    "\n",
    "  for i in range(1, amount+1):\n",
    "    for j in range(kind_of_coins):\n",
    "      # count amount including coins[j]\n",
    "      diff = i - coins[j]\n",
    "      if diff >= 0:\n",
    "        include = dp[diff][j]\n",
    "      else:\n",
    "        include = 0\n",
    "\n",
    "      # count amount excluding coins[j]\n",
    "      if j >= 1:\n",
    "        exclude = dp[i][j-1]\n",
    "      else:\n",
    "        exclude = 0\n",
    "      \n",
    "      dp[i][j] = include + exclude\n",
    "  \n",
    "  return dp[amount][kind_of_coins-1]\n",
    "\n",
    "print(cc(10, 5))\n",
    "print(cc(100, 5))"
   ]
  },
  {
   "cell_type": "code",
   "execution_count": null,
   "metadata": {},
   "outputs": [
    {
     "name": "stdout",
     "output_type": "stream",
     "text": [
      "1\n",
      "5\n",
      "8\n",
      "10\n",
      "13\n",
      "17\n",
      "18\n"
     ]
    }
   ],
   "source": [
    "# q2a\n",
    "def cut_rod(n, prices):\n",
    "  prices[0] = 0\n",
    "  def helper(n, prices, curr_len):\n",
    "    # base case: if rod length is 0, no profit is made\n",
    "    if n == 0:\n",
    "      return 0\n",
    "    \n",
    "    # base case: if curr length exceeds n, stop recursion\n",
    "    if curr_len > n:\n",
    "      return 0\n",
    "    \n",
    "    # print(curr_len)\n",
    "    profit = prices[curr_len] + helper(n-curr_len, prices, curr_len)\n",
    "    profit_next = helper(n, prices, curr_len+1)\n",
    "    return max(profit, profit_next)\n",
    "    \n",
    "  return helper(n, prices, 1)\n",
    "\n",
    "prices = {1: 1, 2: 5, 3: 8, 4:9, 5:10, 6:17, 7: 17, 8:20, 9:24, 10:30}\n",
    "print(cut_rod(1, prices))\n",
    "print(cut_rod(2, prices))\n",
    "print(cut_rod(3, prices))\n",
    "print(cut_rod(4, prices))\n",
    "print(cut_rod(5, prices))\n",
    "print(cut_rod(6, prices))\n",
    "print(cut_rod(7, prices))"
   ]
  },
  {
   "cell_type": "code",
   "execution_count": null,
   "metadata": {},
   "outputs": [
    {
     "name": "stdout",
     "output_type": "stream",
     "text": [
      "1\n",
      "5\n",
      "8\n",
      "10\n",
      "13\n",
      "17\n",
      "18\n"
     ]
    }
   ],
   "source": [
    "# q2b\n",
    "\n",
    "def cut_rod(n, prices):\n",
    "  dp = [0 for i in range(n+1)] \n",
    "\n",
    "  for length in range(1, n+1):\n",
    "    # if rod not cut, max profit will be price of rod\n",
    "    max_profit = prices[length] \n",
    "    for cut in range(1, length+1):\n",
    "      max_profit = max(max_profit, prices[cut] + dp[length - cut])\n",
    "\n",
    "    dp[length] = max_profit\n",
    "\n",
    "  return dp[-1]\n",
    "\n",
    "prices = {1: 1, 2: 5, 3: 8, 4:9, 5:10, 6:17, 7: 17, 8:20, 9:24, 10:30}\n",
    "print(cut_rod(1, prices))\n",
    "print(cut_rod(2, prices))\n",
    "print(cut_rod(3, prices))\n",
    "print(cut_rod(4, prices))\n",
    "print(cut_rod(5, prices))\n",
    "print(cut_rod(6, prices))\n",
    "print(cut_rod(7, prices))\n"
   ]
  },
  {
   "cell_type": "code",
   "execution_count": null,
   "metadata": {},
   "outputs": [],
   "source": []
  }
 ],
 "metadata": {
  "kernelspec": {
   "display_name": "Python 3",
   "language": "python",
   "name": "python3"
  },
  "language_info": {
   "codemirror_mode": {
    "name": "ipython",
    "version": 3
   },
   "file_extension": ".py",
   "mimetype": "text/x-python",
   "name": "python",
   "nbconvert_exporter": "python",
   "pygments_lexer": "ipython3",
   "version": "3.12.8"
  }
 },
 "nbformat": 4,
 "nbformat_minor": 2
}
