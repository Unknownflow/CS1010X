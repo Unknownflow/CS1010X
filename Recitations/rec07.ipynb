{
 "cells": [
  {
   "cell_type": "code",
   "execution_count": 3,
   "metadata": {},
   "outputs": [],
   "source": [
    "# q1\n",
    "def make_matrix(seq):\n",
    "  mat = []\n",
    "  for row in seq:\n",
    "    mat.append(list(row))\n",
    "  return mat"
   ]
  },
  {
   "cell_type": "code",
   "execution_count": 4,
   "metadata": {},
   "outputs": [
    {
     "data": {
      "text/plain": [
       "'\\nmatrix multiplication \\n(N x M matrix) X (M x T matrix)\\ntime: O(NMT) - if N == M == T, time: O(N^3)\\ntime for 1 val: O(M)\\n'"
      ]
     },
     "execution_count": 4,
     "metadata": {},
     "output_type": "execute_result"
    }
   ],
   "source": [
    "\"\"\"\n",
    "matrix multiplication \n",
    "(N x M matrix) X (M x T matrix)\n",
    "time: O(NMT) - if N == M == T, time: O(N^3)\n",
    "time for 1 val: O(M)\n",
    "\"\"\""
   ]
  },
  {
   "cell_type": "code",
   "execution_count": 5,
   "metadata": {},
   "outputs": [],
   "source": [
    "# q1a\n",
    "# would this implementation of make_matrix(seq) work?\n",
    "# def make_matrix(seq):\n",
    "#  return seq\n",
    "\n",
    "# this implementation would only work if the list of lists has the \n",
    "# correct matrix \n",
    "\n",
    "# prof ans\n",
    "# aliasing problem, other item may have the same name\n",
    "# input may not be list of lists\n"
   ]
  },
  {
   "cell_type": "code",
   "execution_count": 6,
   "metadata": {},
   "outputs": [
    {
     "name": "stdout",
     "output_type": "stream",
     "text": [
      "number of rows for m: 3\n",
      "number of cols for m: 3\n",
      "number of rows for n: 2\n",
      "number of cols for n: 4\n",
      "pos 0, 0: 1\n",
      "pos 2, 2: 9\n",
      "new pos 0, 0: 0\n",
      "0 2 3 \n",
      "4 5 6 \n",
      "7 8 9 \n",
      "2 5 8 \n",
      "2 5 8 \n",
      "2 5 8 \n",
      "2 6 \n",
      "2 6 \n",
      "2 6 \n",
      "2 6 \n"
     ]
    }
   ],
   "source": [
    "m = make_matrix([[1,2,3], [4,5,6],[7,8,9]])\n",
    "n = make_matrix([[1,2,3,4], [5,6,7,8]])\n",
    "\n",
    "# q1b\n",
    "def rows(m):\n",
    "  return len(m)\n",
    "\n",
    "def cols(m):\n",
    "  return len(m[0])\n",
    "\n",
    "def get(m, i, j):\n",
    "  return m[i][j]\n",
    "\n",
    "def set(m, i, j, val):\n",
    "  m[i][j] = val\n",
    "  return\n",
    "\n",
    "def transpose(m):\n",
    "    transposed_matrix = [[row[i] for row in m] for i in range(len(m[0]))]\n",
    "    matrix_len = len(m)\n",
    "    transposed_len = len(transposed_matrix)\n",
    "\n",
    "    for i in range(matrix_len, transposed_len):\n",
    "        m.append([])\n",
    "\n",
    "    for i in range(transposed_len, matrix_len):\n",
    "        m.pop()\n",
    "\n",
    "    for i in range(transposed_len):\n",
    "        m[i] = transposed_matrix[i]\n",
    "\n",
    "    return m\n",
    "\n",
    "def transpose(t):\n",
    "   result = []\n",
    "   for i in range(cols(t)):\n",
    "      result.append(list(map(lambda x:x[1], t)))\n",
    "   t.clear()\n",
    "   t.extend(result)\n",
    "\n",
    "def print_matrix(mat):\n",
    "  for row in mat:\n",
    "    for item in row:\n",
    "      print(item, end=\" \")\n",
    "    print()\n",
    "  return\n",
    "\n",
    "def test():\n",
    "  print('number of rows for m:', rows(m))\n",
    "  print('number of cols for m:', cols(m))\n",
    "  print('number of rows for n:', rows(n))\n",
    "  print('number of cols for n:', cols(n))\n",
    "  print('pos 0, 0:', get(m, 0, 0))\n",
    "  print('pos 2, 2:', get(m, 2, 2))\n",
    "  set(m, 0, 0, 0)\n",
    "  print('new pos 0, 0:', get(m, 0, 0))\n",
    "  print_matrix(m)\n",
    "  transpose(m)\n",
    "  print_matrix(m)\n",
    "  transpose(n)\n",
    "  print_matrix(n)\n",
    "\n",
    "test()\n",
    "\n"
   ]
  },
  {
   "cell_type": "code",
   "execution_count": null,
   "metadata": {},
   "outputs": [
    {
     "name": "stdout",
     "output_type": "stream",
     "text": [
      "[[2, 5, 8], [2, 5, 8], [2, 5, 8]]\n",
      "None\n"
     ]
    }
   ],
   "source": [
    "def sumT(t, term, next):\n",
    "  if t == []:\n",
    "    return []\n",
    "  else:\n",
    "    return term(t) + sumT(next(t), term, next)\n",
    "\n",
    "def map(f, t):\n",
    "  return sumT(t, lambda t: [f(t[0])], lambda t: t[1:])\n",
    "\n",
    "def transpose(t):\n",
    "  result = sumT(t, lambda N: [ map(lambda row: row[0], N) ],\n",
    "              lambda N: map(lambda row: row[1:], N if len(N[0]) > 1 else [] ))\n",
    "  t.clear()\n",
    "  t.extend(result)\n",
    "  print(m)\n",
    "\n",
    "print(transpose(m))"
   ]
  },
  {
   "cell_type": "code",
   "execution_count": 10,
   "metadata": {},
   "outputs": [
    {
     "name": "stdout",
     "output_type": "stream",
     "text": [
      "[3, 3, [[0, 1, 2], [0, 2, 3], [1, 0, 4], [1, 1, 5], [1, 2, 6], [2, 0, 7], [2, 1, 8], [2, 2, 9]]]\n",
      "[2, 4, [[0, 0, 1], [0, 1, 2], [0, 2, 3], [0, 3, 4], [1, 0, 5], [1, 1, 6], [1, 2, 7]]]\n"
     ]
    }
   ],
   "source": [
    "# q2 square matrix representation\n",
    "\n",
    "def make_matrix(seq):\n",
    "  data = []\n",
    "  for i in range(len(seq)):\n",
    "    for j in range(len(seq[0])):\n",
    "      if seq[i][j] != 0:\n",
    "        data.append([i, j, seq[i][j]])\n",
    "  \n",
    "  return [len(seq), len(seq[0]), data]\n",
    "\n",
    "m = make_matrix([[0,2,3], [4,5,6],[7,8,9]])\n",
    "n = make_matrix([[1,2,3,4], [5,6,7,0]])\n",
    "\n",
    "print(m)\n",
    "print(n)\n",
    "\n",
    "# space: O(k), k - number of non-zero elements\n",
    "# use in engineering applications & AI where there are many 0s\n",
    "# if k < n^2, this is better\n",
    "\n",
    "# frequency of operations to decide if the func is worth implementing"
   ]
  },
  {
   "cell_type": "code",
   "execution_count": null,
   "metadata": {},
   "outputs": [
    {
     "name": "stdout",
     "output_type": "stream",
     "text": [
      "number of rows for m: 3\n",
      "number of cols for m: 3\n",
      "number of rows for n: 2\n",
      "number of cols for n: 4\n",
      "pos 0, 0: 0\n",
      "pos 2, 2: 9\n",
      "new pos 0, 0: 1\n",
      "[3, 3, [[0, 1, 2], [0, 2, 3], [1, 0, 4], [1, 1, 5], [1, 2, 6], [2, 0, 7], [2, 1, 8], [2, 2, 9]]]\n",
      "new pos 0, 0: 0\n",
      "0 2 3 \n",
      "4 5 6 \n",
      "7 8 9 \n",
      "\n",
      "0 4 7 \n",
      "2 5 8 \n",
      "3 6 9 \n",
      "\n",
      "1 5 \n",
      "2 6 \n",
      "3 7 \n",
      "4 0 \n",
      "\n"
     ]
    }
   ],
   "source": [
    "# q2a\n",
    "\n",
    "def rows(m):\n",
    "  return m[0]\n",
    "\n",
    "def cols(m):\n",
    "  return m[1]\n",
    "\n",
    "def get(m, i, j):\n",
    "  data = m[2]\n",
    "  for item in data:\n",
    "    if item[0] == i and item[1] == j:\n",
    "      return item[2]\n",
    "  \n",
    "  return 0\n",
    "\n",
    "def set(m, i, j, val):\n",
    "  data = m[2]\n",
    "  for item in data:\n",
    "    if item[0] == i and item[1] == j:\n",
    "      if val == 0:\n",
    "        m[2].remove(item)\n",
    "      else:\n",
    "        item[2] = val\n",
    "      return\n",
    "  \n",
    "  # item to update is 0\n",
    "  data.append([i, j, val])\n",
    "  return\n",
    "\n",
    "def transpose(m):\n",
    "  data = m[2]\n",
    "  m[0], m[1] = m[1], m[0]\n",
    "  for item in data:\n",
    "    item[0], item[1] = item[1], item[0]\n",
    "  return m\n",
    "\n",
    "def print_matrix(m):\n",
    "  matrix = [[0 for j in range(m[1])] for i in range(m[0])]\n",
    "  data = m[2]\n",
    "  for item in data:\n",
    "    i = item[0]\n",
    "    j = item[1]\n",
    "    val = item[2]\n",
    "    matrix[i][j] = val\n",
    "\n",
    "  for row in matrix:\n",
    "    for item in row:\n",
    "      print(item, end=\" \")\n",
    "    print()\n",
    "  return \n",
    "\n",
    "def test():\n",
    "  print('number of rows for m:', rows(m))\n",
    "  print('number of cols for m:', cols(m))\n",
    "  print('number of rows for n:', rows(n))\n",
    "  print('number of cols for n:', cols(n))\n",
    "  print('pos 0, 0:', get(m, 0, 0))\n",
    "  print('pos 2, 2:', get(m, 2, 2))\n",
    "  set(m, 0, 0, 1)\n",
    "  print('new pos 0, 0:', get(m, 0, 0))\n",
    "  set(m, 0, 0, 0)\n",
    "  print('new pos 0, 0:', get(m, 0, 0))\n",
    "  print_matrix(m)\n",
    "  print()\n",
    "  transpose(m)\n",
    "  print_matrix(m)\n",
    "  print()\n",
    "  transpose(n)\n",
    "  print_matrix(n)\n",
    "  print()\n",
    "\n",
    "\n",
    "test()"
   ]
  },
  {
   "cell_type": "code",
   "execution_count": null,
   "metadata": {},
   "outputs": [],
   "source": [
    "# the dense matrix representation is a better implementation for the matrix object as \n",
    "# the time complexity for the get and set methods are O(1) whereas the time complexity \n",
    "# for the sparse matrix representation is O(n), where n is the total number of item in \n",
    "# the matrix.\n",
    "\n",
    "\n",
    "\"\"\"\n",
    "        dense sparse\n",
    "cols     O(1)  O(1)\n",
    "rows     O(1)  O(1)\n",
    "get      O(1)  O(k)\n",
    "set      O(1)  O(k)\n",
    "transpose O(MN)  O(k)\n",
    "print    O(NM) O(NM)  \n",
    "\"\"\""
   ]
  }
 ],
 "metadata": {
  "kernelspec": {
   "display_name": "Python 3",
   "language": "python",
   "name": "python3"
  },
  "language_info": {
   "codemirror_mode": {
    "name": "ipython",
    "version": 3
   },
   "file_extension": ".py",
   "mimetype": "text/x-python",
   "name": "python",
   "nbconvert_exporter": "python",
   "pygments_lexer": "ipython3",
   "version": "3.12.8"
  }
 },
 "nbformat": 4,
 "nbformat_minor": 2
}
