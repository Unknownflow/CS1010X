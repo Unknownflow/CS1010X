{
 "cells": [
  {
   "cell_type": "code",
   "execution_count": 23,
   "metadata": {},
   "outputs": [
    {
     "name": "stdout",
     "output_type": "stream",
     "text": [
      "[1, 'a', ('I', 'can', 'have', 'tuples', 'in', 'lists')]\n"
     ]
    }
   ],
   "source": [
    "# Q1 evaluate the following expressions\n",
    "many_things = [1,'a', ('I','can','have','tuples','in','lists')]\n",
    "print(many_things)"
   ]
  },
  {
   "cell_type": "code",
   "execution_count": 24,
   "metadata": {},
   "outputs": [
    {
     "name": "stdout",
     "output_type": "stream",
     "text": [
      "[2, 3, 4]\n"
     ]
    }
   ],
   "source": [
    "numbers = [2, 3 ,4]\n",
    "print(numbers)"
   ]
  },
  {
   "cell_type": "code",
   "execution_count": 25,
   "metadata": {},
   "outputs": [
    {
     "name": "stdout",
     "output_type": "stream",
     "text": [
      "[1, 'a', ('I', 'can', 'have', 'tuples', 'in', 'lists'), 2, 3, 4]\n"
     ]
    }
   ],
   "source": [
    "concatenated = many_things + numbers\n",
    "print(concatenated)"
   ]
  },
  {
   "cell_type": "code",
   "execution_count": 26,
   "metadata": {},
   "outputs": [
    {
     "name": "stdout",
     "output_type": "stream",
     "text": [
      "None\n",
      "[1, 'a', ('I', 'can', 'have', 'tuples', 'in', 'lists'), [2, 3, 4]]\n"
     ]
    }
   ],
   "source": [
    "appended = many_things.append(numbers)\n",
    "print(appended)\n",
    "print(many_things)"
   ]
  },
  {
   "cell_type": "code",
   "execution_count": 27,
   "metadata": {},
   "outputs": [
    {
     "name": "stdout",
     "output_type": "stream",
     "text": [
      "None\n",
      "[1, 'a', ('I', 'can', 'have', 'tuples', 'in', 'lists'), [2, 3, 4], 2, 3, 4]\n"
     ]
    }
   ],
   "source": [
    "extended = many_things.extend(numbers)\n",
    "print(extended)\n",
    "print(many_things)"
   ]
  },
  {
   "cell_type": "code",
   "execution_count": 28,
   "metadata": {},
   "outputs": [
    {
     "name": "stdout",
     "output_type": "stream",
     "text": [
      "[7, 'a', ('I', 'can', 'have', 'tuples', 'in', 'lists'), [2, 3, 4], 2, 3, 4]\n"
     ]
    }
   ],
   "source": [
    "many_things[0] = 7\n",
    "print(many_things)"
   ]
  },
  {
   "cell_type": "code",
   "execution_count": 29,
   "metadata": {},
   "outputs": [
    {
     "name": "stdout",
     "output_type": "stream",
     "text": [
      "('I', 'can', 'have', 'tuples', 'in', 'lists')\n"
     ]
    }
   ],
   "source": [
    "can_be_indexed = concatenated[2]\n",
    "print(can_be_indexed)"
   ]
  },
  {
   "cell_type": "code",
   "execution_count": 30,
   "metadata": {},
   "outputs": [
    {
     "name": "stdout",
     "output_type": "stream",
     "text": [
      "can\n"
     ]
    }
   ],
   "source": [
    "can_be_indexed_multiple_times = concatenated[2][1]\n",
    "print(can_be_indexed_multiple_times)"
   ]
  },
  {
   "cell_type": "code",
   "execution_count": 31,
   "metadata": {},
   "outputs": [
    {
     "name": "stdout",
     "output_type": "stream",
     "text": [
      "[1, 'a', ('I', 'can', 'have', 'tuples', 'in', 'lists'), 2, 3, 4]\n",
      "True\n",
      "False\n"
     ]
    }
   ],
   "source": [
    "a_shallow_copy = concatenated[:]\n",
    "print(a_shallow_copy)\n",
    "print(a_shallow_copy == concatenated)\n",
    "print(a_shallow_copy is concatenated)"
   ]
  },
  {
   "cell_type": "code",
   "execution_count": 32,
   "metadata": {},
   "outputs": [
    {
     "name": "stdout",
     "output_type": "stream",
     "text": [
      "('I', 'can', 'have', 'tuples', 'in', 'lists')\n",
      "True\n"
     ]
    }
   ],
   "source": [
    "woops = a_shallow_copy[2]\n",
    "print(woops)\n",
    "print(woops is can_be_indexed)"
   ]
  },
  {
   "cell_type": "code",
   "execution_count": 33,
   "metadata": {},
   "outputs": [
    {
     "name": "stdout",
     "output_type": "stream",
     "text": [
      "['blah']\n"
     ]
    }
   ],
   "source": [
    "singleton = ['blah']\n",
    "print(singleton)"
   ]
  },
  {
   "cell_type": "code",
   "execution_count": 34,
   "metadata": {},
   "outputs": [
    {
     "name": "stdout",
     "output_type": "stream",
     "text": [
      "[1, 2, 3, 4, 5, 6, 7, 8, 9, 10]\n",
      "[1, 2, 3, 4, 5, 6, 7, 8, 9, 10]\n",
      "[1, 2, 3, 4, 5, 6, 7, 8, 9, 10]\n"
     ]
    }
   ],
   "source": [
    "\"\"\"\n",
    "Q2\n",
    "In lecture, we implemented selection and merge sort, but we did so without using\n",
    "indices. The “typical” way to implement sorts is to use list indices. Implement the\n",
    "following sort:\n",
    "(Bubble Sort) Start at index 0, iterate down the list exchanging two pairs of ele-\n",
    "ments if the second is smaller than the rst. Rinse and repeat until there are no\n",
    "swaps required during a given pass.\n",
    "What is the space and time complexity for your implementation?\n",
    "\"\"\"\n",
    "\n",
    "def bubble_sort(lst):\n",
    "  swaps = True\n",
    "\n",
    "  while swaps:\n",
    "    swaps = False\n",
    "    for i in range(len(lst)-1):\n",
    "      if lst[i] > lst[i+1]:\n",
    "        tmp = lst[i]\n",
    "        lst[i] = lst[i+1]\n",
    "        lst[i+1] = tmp\n",
    "        swaps = True\n",
    "  \n",
    "  return lst\n",
    "\n",
    "\n",
    "print(bubble_sort([1,2,3,4,5,6,7,8,9,10]))\n",
    "print(bubble_sort([10,9,8,7,6,5,4,3,2,1]))\n",
    "print(bubble_sort([5,2,3,7,9,1,4,8,10,6]))\n",
    "# time complexity: O(n**2), n = length of lst\n",
    "# worst case is when the lst is in descending order as \n",
    "# the for loop will be executed n times and since the for loop\n",
    "# is also O(n), the time complexity is thus O(n**2)\n",
    "# space complexity: O(1), since only extra space is variables"
   ]
  },
  {
   "cell_type": "code",
   "execution_count": 35,
   "metadata": {},
   "outputs": [
    {
     "name": "stdout",
     "output_type": "stream",
     "text": [
      "[1, 2, 3, 4, 5, 6, 7, 8, 9, 10]\n",
      "[1, 2, 3, 4, 5, 6, 7, 8, 9, 10]\n",
      "[1, 2, 3, 4, 5, 6, 7, 8, 9, 10]\n"
     ]
    }
   ],
   "source": [
    "\"\"\"\n",
    "Q3\n",
    "(In-place Selection Sort) Now, implement selection sort, which was described in\n",
    "class, as an in-place sort by using list indices, i.e. write a function selection_sort\n",
    "that takes as its argument an unsorted list and modies it so that it is sorted\n",
    "according to the comparison operator <.\n",
    "What is the space and time complexity for your implementation\n",
    "\"\"\"\n",
    "\n",
    "def selection_sort(lst):\n",
    "  n = len(lst)\n",
    "  for i in range(n-1):\n",
    "    # assume that current pos holds min elem\n",
    "    min_idx = i\n",
    "\n",
    "    # loop thru unsorted to find actual min\n",
    "    for j in range(i+1, n):\n",
    "      if lst[j] < lst[min_idx]:\n",
    "        # update min_idx if smaller elem found\n",
    "        min_idx = j\n",
    "      \n",
    "    # move min elem to its correct poss\n",
    "    lst[i], lst[min_idx] = lst[min_idx], lst[i]\n",
    "  \n",
    "  return lst\n",
    "\n",
    "\n",
    "print(selection_sort([1,2,3,4,5,6,7,8,9,10]))\n",
    "print(selection_sort([10,9,8,7,6,5,4,3,2,1]))\n",
    "print(selection_sort([5,2,3,7,9,1,4,8,10,6]))\n",
    "\n",
    "# time: O(n**2), n = len(lst), first for loop to select an elem\n",
    "# second for loop to find min elem and compare\n",
    "# space: O(1), no extra space other than variables\n"
   ]
  },
  {
   "cell_type": "code",
   "execution_count": 36,
   "metadata": {},
   "outputs": [
    {
     "name": "stdout",
     "output_type": "stream",
     "text": [
      "[('tiffany', 'A', 15), ('simon', 'A', 21), ('john', 'A', 15), ('jimmy', 'F', 1), ('jane', 'B', 10), ('freddy', 'D', 4), ('dave', 'B', 12), ('charles', 'C', 9), ('ben', 'C', 8)]\n",
      "[('tiffany', 'A', 15), ('simon', 'A', 21), ('john', 'A', 15), ('jimmy', 'F', 1), ('jane', 'B', 10), ('freddy', 'D', 4), ('dave', 'B', 12), ('charles', 'C', 9), ('ben', 'C', 8)]\n"
     ]
    }
   ],
   "source": [
    "# Q4 Given the following list:\n",
    "students = [\n",
    "  ('tiffany', 'A', 15),\n",
    "  ('jane', 'B', 10),\n",
    "  ('ben', 'C', 8),\n",
    "  ('simon', 'A', 21),\n",
    "  ('john', 'A', 15),\n",
    "  ('jimmy', 'F', 1),\n",
    "  ('charles', 'C', 9),\n",
    "  ('freddy', 'D', 4),\n",
    "  ('dave', 'B', 12)\n",
    "]\n",
    "\n",
    "# 4a  How would you sort the list of students by name in reverse alphabetical order?\n",
    "def sort_name_by_reverse_alphabetical(lst):\n",
    "  # using bubble sort implementation\n",
    "  swaps = True\n",
    "\n",
    "  while swaps:\n",
    "    swaps = False\n",
    "    for i in range(len(lst)-1):\n",
    "      if lst[i][0] < lst[i+1][0]:\n",
    "        # replace the comparison operator as the student name is in the first index\n",
    "        tmp = lst[i]\n",
    "        lst[i] = lst[i+1]\n",
    "        lst[i+1] = tmp\n",
    "        swaps = True\n",
    "  \n",
    "  return lst\n",
    "\n",
    "print(sort_name_by_reverse_alphabetical(students))\n",
    "print(sorted(students, key=lambda x: x[0], reverse=True))\n",
    "\n",
    "# I would sort the list of students by comparing each item in the list using the first\n",
    "# index of that item"
   ]
  },
  {
   "cell_type": "code",
   "execution_count": 37,
   "metadata": {},
   "outputs": [
    {
     "name": "stdout",
     "output_type": "stream",
     "text": [
      "[('john', 'A', 15), ('simon', 'A', 21), ('tiffany', 'A', 15), ('dave', 'B', 12), ('jane', 'B', 10), ('ben', 'C', 8), ('charles', 'C', 9), ('freddy', 'D', 4), ('jimmy', 'F', 1)]\n",
      "[('john', 'A', 15), ('simon', 'A', 21), ('tiffany', 'A', 15), ('dave', 'B', 12), ('jane', 'B', 10), ('ben', 'C', 8), ('charles', 'C', 9), ('freddy', 'D', 4), ('jimmy', 'F', 1)]\n"
     ]
    }
   ],
   "source": [
    "# q4b How would you sort the list of students by letter grade, followed by\n",
    "# name in alphabetical order?\n",
    "\n",
    "def sort_by_grade_then_name(lst):\n",
    "  swaps = True\n",
    "\n",
    "  while swaps:\n",
    "    swaps = False\n",
    "    for i in range(len(lst)-1):\n",
    "      if lst[i][1] > lst[i+1][1]: # compare grade\n",
    "        lst[i], lst[i+1] = lst[i+1], lst[i]\n",
    "        swaps = True\n",
    "      elif lst[i][1] == lst[i+1][1]: # if same grade\n",
    "        if lst[i][0] > lst[i+1][0]: # compare name\n",
    "          lst[i], lst[i+1] = lst[i+1], lst[i]\n",
    "          swaps = True\n",
    "\n",
    "  \n",
    "  return lst\n",
    "\n",
    "print(sort_by_grade_then_name(students))\n",
    "\n",
    "print(sorted(students, key=lambda x: (x[1], x[0])))"
   ]
  },
  {
   "cell_type": "code",
   "execution_count": 38,
   "metadata": {},
   "outputs": [
    {
     "name": "stdout",
     "output_type": "stream",
     "text": [
      "('john', 'simon', 'dave', 'jane', 'ben', 'jimmy')\n",
      "('john', 'simon', 'dave', 'jane', 'ben', 'jimmy')\n"
     ]
    }
   ],
   "source": [
    "# Q4c\n",
    "\n",
    "def get_names_fewer_than_six_char(lst):\n",
    "  res = ()\n",
    "  for item in lst:\n",
    "    name = item[0]\n",
    "    if len(name) < 6:\n",
    "      res += (name, )\n",
    "  \n",
    "  return res\n",
    "\n",
    "print(get_names_fewer_than_six_char(students))\n",
    "\n",
    "# using signal processsing\n",
    "print(tuple(map(lambda x: x[0], filter(lambda x: len(x[0]) < 6, students))))"
   ]
  },
  {
   "cell_type": "code",
   "execution_count": 39,
   "metadata": {},
   "outputs": [
    {
     "name": "stdout",
     "output_type": "stream",
     "text": [
      "(('A', 3), ('B', 2), ('C', 2), ('D', 1), ('F', 1))\n"
     ]
    }
   ],
   "source": [
    "# Q4d\n",
    "\n",
    "def get_grade_occurrences(lst):\n",
    "  res = ()\n",
    "  occurences = {}\n",
    "\n",
    "  for item in lst:\n",
    "    grade = item[1]\n",
    "    if grade not in occurences:\n",
    "      occurences[grade] = 1\n",
    "    else:\n",
    "      occurences[grade] += 1\n",
    "  \n",
    "  for key, val in occurences.items():\n",
    "    res += ((key, val),)\n",
    "  \n",
    "  return res\n",
    "\n",
    "print(get_grade_occurrences(students))"
   ]
  }
 ],
 "metadata": {
  "kernelspec": {
   "display_name": "Python 3",
   "language": "python",
   "name": "python3"
  },
  "language_info": {
   "codemirror_mode": {
    "name": "ipython",
    "version": 3
   },
   "file_extension": ".py",
   "mimetype": "text/x-python",
   "name": "python",
   "nbconvert_exporter": "python",
   "pygments_lexer": "ipython3",
   "version": "3.12.8"
  }
 },
 "nbformat": 4,
 "nbformat_minor": 4
}
