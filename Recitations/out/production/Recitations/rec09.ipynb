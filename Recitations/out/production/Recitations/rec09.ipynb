{
 "cells": [
  {
   "cell_type": "code",
   "execution_count": 71,
   "metadata": {},
   "outputs": [
    {
     "name": "stdout",
     "output_type": "stream",
     "text": [
      "eat at 0: 3\n",
      "eat at 11: 0\n"
     ]
    }
   ],
   "source": [
    "# q1\n",
    "\n",
    "class Food:\n",
    "  def __init__(self, name, nutrition, good_until):\n",
    "    self.name = name\n",
    "    self.nutrition = nutrition\n",
    "    self.good_until = good_until\n",
    "    self.age = 0\n",
    "  \n",
    "  def sit_there(self, time):\n",
    "    self.age += time\n",
    "  \n",
    "  def eat(self):\n",
    "    if self.age <= self.good_until:\n",
    "      return self.nutrition\n",
    "    else:\n",
    "      return 0\n",
    "\n",
    "food = Food(\"orange\", 3, 10)\n",
    "print('eat at 0:', food.eat())\n",
    "food.sit_there(11)\n",
    "print('eat at 11:', food.eat())"
   ]
  },
  {
   "cell_type": "code",
   "execution_count": 40,
   "metadata": {},
   "outputs": [
    {
     "name": "stdout",
     "output_type": "stream",
     "text": [
      "eat: 0\n",
      "eat aft 6: 4\n"
     ]
    }
   ],
   "source": [
    "# q2\n",
    "\n",
    "class AgedFood(Food):\n",
    "  def __init__(self, name, nutrition, good_until, good_after):\n",
    "    super().__init__(name, nutrition, good_until)\n",
    "    self.good_after = good_after\n",
    "  \n",
    "  def sniff(self):\n",
    "    if self.age >= self.good_after:\n",
    "      return True\n",
    "    else:\n",
    "      return False\n",
    "  \n",
    "  def eat(self):\n",
    "    if self.sniff():\n",
    "      return super().eat()\n",
    "    else:\n",
    "      return 0\n",
    "\n",
    "\n",
    "aged = AgedFood('apple', 4, 10, 5)\n",
    "print('eat:', aged.eat())\n",
    "aged.sit_there(6)\n",
    "print('eat aft 6:', aged.eat())"
   ]
  },
  {
   "cell_type": "code",
   "execution_count": 76,
   "metadata": {},
   "outputs": [
    {
     "name": "stdout",
     "output_type": "stream",
     "text": [
      "age: 2.5\n"
     ]
    }
   ],
   "source": [
    "# q3\n",
    "\n",
    "class VendingMachine:\n",
    "  def __init__(self, name, nutrition, good_until):\n",
    "    self.name = name\n",
    "    self.nutrition = nutrition\n",
    "    self.good_until = good_until\n",
    "    self.age = 0\n",
    "  \n",
    "  def sit_there(self, time):\n",
    "    self.age += time / 2\n",
    "  \n",
    "  def sell_food(self):\n",
    "    return Food(self.name, self.nutrition, self.good_until)\n",
    "\n",
    "vending = VendingMachine('banana', 7, 5)\n",
    "vending.sell_food()\n",
    "vending.sit_there(5)\n",
    "print('age:', vending.age)\n"
   ]
  },
  {
   "cell_type": "code",
   "execution_count": 67,
   "metadata": {},
   "outputs": [
    {
     "name": "stdout",
     "output_type": "stream",
     "text": [
      "(('first', 5), ('second', 7), ('third', 9))\n"
     ]
    }
   ],
   "source": [
    "# q4\n",
    "\n",
    "def mapn(fn, lsts):\n",
    "  if len(lsts[0]) == 0:\n",
    "    return ()\n",
    "  return (fn(*tuple(map(lambda x: x[0], lsts))), ) + \\\n",
    "          mapn(fn, tuple(map(lambda x: x[1:], lsts)))\n",
    "  \n",
    "print(mapn(lambda x, y, z: (z, x+y), ((1,2,3), (4,5,6), ('first', 'second', 'third'))))"
   ]
  },
  {
   "cell_type": "code",
   "execution_count": null,
   "metadata": {},
   "outputs": [],
   "source": [
    "# q5\n",
    "# use a list to store the food or other things\n",
    "# sell food will return a list of the food items"
   ]
  }
 ],
 "metadata": {
  "kernelspec": {
   "display_name": "Python 3",
   "language": "python",
   "name": "python3"
  },
  "language_info": {
   "codemirror_mode": {
    "name": "ipython",
    "version": 3
   },
   "file_extension": ".py",
   "mimetype": "text/x-python",
   "name": "python",
   "nbconvert_exporter": "python",
   "pygments_lexer": "ipython3",
   "version": "3.12.8"
  }
 },
 "nbformat": 4,
 "nbformat_minor": 2
}
