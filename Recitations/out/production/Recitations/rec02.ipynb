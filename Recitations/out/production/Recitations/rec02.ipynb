{
 "cells": [
  {
   "cell_type": "code",
   "execution_count": 2,
   "metadata": {},
   "outputs": [
    {
     "name": "stdout",
     "output_type": "stream",
     "text": [
      "3\n",
      "9\n"
     ]
    }
   ],
   "source": [
    "from rec01 import *\n",
    "\n",
    "# Q1a\n",
    "# Write a recursive function called order_size which takes an order and returns\n",
    "# the number of combos in the order. For example, order_size(237) -> 3\n",
    "def order_size(order):\n",
    "  if order == empty_order():\n",
    "    return 0\n",
    "  else:\n",
    "    return 1 + order_size(order//10)\n",
    "\n",
    "print(order_size(237))\n",
    "print(order_size(123456789))"
   ]
  },
  {
   "cell_type": "code",
   "execution_count": 3,
   "metadata": {},
   "outputs": [
    {
     "name": "stdout",
     "output_type": "stream",
     "text": [
      "3\n",
      "9\n"
     ]
    }
   ],
   "source": [
    "# Q1b\n",
    "# Write an iterative version of order_size.\n",
    "def order_size(order):\n",
    "  count = 0 \n",
    "\n",
    "  while order > empty_order():\n",
    "    order //= 10\n",
    "    count += 1\n",
    "  \n",
    "  return count\n",
    "\n",
    "print(order_size(237))\n",
    "print(order_size(123456789))"
   ]
  },
  {
   "cell_type": "code",
   "execution_count": 4,
   "metadata": {},
   "outputs": [
    {
     "name": "stdout",
     "output_type": "stream",
     "text": [
      "12.7\n",
      "20.72\n",
      "25.4\n"
     ]
    }
   ],
   "source": [
    "# Q1c\n",
    "# Write a recursive function called order_cost which takes an order and returns\n",
    "# the total cost of all the combos\n",
    "def order_cost(order):\n",
    "  if order == empty_order():\n",
    "    return 0\n",
    "  else:\n",
    "    return combo_price(order%10) + order_cost(order//10)\n",
    "  \n",
    "print(order_cost(2367))\n",
    "print(order_cost(8888))\n",
    "print(order_cost(12345678))"
   ]
  },
  {
   "cell_type": "code",
   "execution_count": 5,
   "metadata": {},
   "outputs": [
    {
     "name": "stdout",
     "output_type": "stream",
     "text": [
      "12.7\n",
      "20.72\n",
      "25.4\n"
     ]
    }
   ],
   "source": [
    "# Q1d\n",
    "# Write an iterative version of order_cost.\n",
    "def order_cost(order):\n",
    "  total_cost = 0\n",
    "\n",
    "  while order > empty_order():\n",
    "    combo = order % 10\n",
    "    total_cost += combo_price(combo)\n",
    "    order //= 10\n",
    "  \n",
    "  return total_cost\n",
    "\n",
    "print(order_cost(2367))\n",
    "print(order_cost(8888))\n",
    "print(order_cost(12345678))"
   ]
  },
  {
   "cell_type": "code",
   "execution_count": 6,
   "metadata": {},
   "outputs": [
    {
     "name": "stdout",
     "output_type": "stream",
     "text": [
      "123432\n"
     ]
    }
   ],
   "source": [
    "# Q1e\n",
    "# Homework: Write a function called add_orders which takes two orders and re-\n",
    "# turns a new order that is the combination of the two. For example, add_orders\n",
    "# (123,234) -> 123234. Note that the order of the combos in the new order is not\n",
    "# important as long as the new order contains the correct combos. add_orders(123,234)\n",
    "# -> 122334 would also be acceptable.\n",
    "def add_orders(order_one, order_two):\n",
    "  new_order = order_one\n",
    "\n",
    "  while order_two > empty_order():\n",
    "    combo = order_two % 10\n",
    "    new_order = new_order * 10 + combo\n",
    "    order_two //= 10\n",
    "  \n",
    "  return new_order\n",
    "\n",
    "print(add_orders(123, 234))\n"
   ]
  },
  {
   "cell_type": "markdown",
   "metadata": {},
   "source": [
    "#### Q2 Give order notation for the following\n",
    "#### a) 5n^2 + n --> n^2\n",
    "#### b) n^(1/2) + n --> n\n",
    "#### c) (3^n)(n^2) --> (3^n)(n^2)"
   ]
  },
  {
   "cell_type": "code",
   "execution_count": 7,
   "metadata": {},
   "outputs": [],
   "source": [
    "# Q3\n",
    "def fact(n):\n",
    "  if n == 0:\n",
    "    return 1\n",
    "  else:\n",
    "    return n * fact(n - 1)\n",
    "# Running time: O(n)\n",
    "# Space: O(n)"
   ]
  },
  {
   "cell_type": "code",
   "execution_count": 8,
   "metadata": {},
   "outputs": [
    {
     "name": "stdout",
     "output_type": "stream",
     "text": [
      "1\n",
      "6\n",
      "120\n"
     ]
    }
   ],
   "source": [
    "# Q4 Write an iterative version of fact\n",
    "def fact(n):\n",
    "  result = 1\n",
    "\n",
    "  for i in range(2, n+1):\n",
    "    result *= i\n",
    "  \n",
    "  return result\n",
    "\n",
    "print(fact(1))\n",
    "print(fact(3))\n",
    "print(fact(5))"
   ]
  },
  {
   "cell_type": "code",
   "execution_count": 9,
   "metadata": {},
   "outputs": [],
   "source": [
    "# Q5\n",
    "def find_e(n):\n",
    "  if n == 0:\n",
    "    return 1\n",
    "  else:\n",
    "    return 1/fact(n) + find_e(n-1)\n",
    "# Running time: O(n^2)\n",
    "# Space: O(n)"
   ]
  },
  {
   "cell_type": "code",
   "execution_count": 10,
   "metadata": {},
   "outputs": [
    {
     "name": "stdout",
     "output_type": "stream",
     "text": [
      "False 0\n",
      "False 1\n",
      "True 2\n",
      "True 3\n",
      "False 4\n",
      "True 5\n",
      "False 6\n",
      "True 7\n",
      "False 8\n",
      "False 9\n",
      "False 10\n",
      "True 11\n",
      "False 12\n",
      "True 13\n",
      "False 14\n"
     ]
    }
   ],
   "source": [
    "# Q6\n",
    "# Assume you have a function is_divisible(n, x) which returns True if n is divisible\n",
    "# by x. It runs in O(n) time and O(1) space. Write a function is_prime which takes a\n",
    "# number and returns True if it’s prime and False otherwise.\n",
    "from math import sqrt\n",
    "\n",
    "def is_divsible(n, x):\n",
    "  if n % x == 0:\n",
    "    return True\n",
    "  else:\n",
    "    return False\n",
    "  \n",
    "def is_prime(n):\n",
    "  if n <= 1:\n",
    "    return False\n",
    "  \n",
    "  for i in range(2, int(sqrt(n))+1):\n",
    "    if is_divsible(n, i):\n",
    "      return False\n",
    "    \n",
    "  return True\n",
    "\n",
    "# is_divisible(n, x) has a O(n) time and O(1) space\n",
    "# Running time: O(n^(3/2))\n",
    "# Space: O(1)\n",
    "for i in range(0, 15):\n",
    "  print(is_prime(i), i)"
   ]
  },
  {
   "cell_type": "code",
   "execution_count": 11,
   "metadata": {},
   "outputs": [],
   "source": [
    "# Q7: Homework: Write an iterative version of find_e\n",
    "# use the iterative version of fact(n)\n",
    "def find_e_iterative(n):\n",
    "  result = 0\n",
    "\n",
    "  for i in range(n+1):\n",
    "    result += 1/fact(i)\n",
    "  \n",
    "  return result\n"
   ]
  }
 ],
 "metadata": {
  "kernelspec": {
   "display_name": "Python 3",
   "language": "python",
   "name": "python3"
  },
  "language_info": {
   "codemirror_mode": {
    "name": "ipython",
    "version": 3
   },
   "file_extension": ".py",
   "mimetype": "text/x-python",
   "name": "python",
   "nbconvert_exporter": "python",
   "pygments_lexer": "ipython3",
   "version": "3.12.8"
  }
 },
 "nbformat": 4,
 "nbformat_minor": 2
}
