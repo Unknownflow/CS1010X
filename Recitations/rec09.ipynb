{
 "cells": [
  {
   "cell_type": "code",
   "execution_count": null,
   "metadata": {},
   "outputs": [
    {
     "name": "stdout",
     "output_type": "stream",
     "text": [
      "eat at 0: 3\n",
      "eat at 11: 0\n",
      "2\n"
     ]
    }
   ],
   "source": [
    "# q1\n",
    "\"\"\"\n",
    "3 words to know about oop: inheritance, polymorphism, encapsulation\n",
    "class \n",
    "class variable, class methods\n",
    "\n",
    "associated with the instance\n",
    "attributes - public, private, protected\n",
    "methods - constructors, accessors, setter, getter \n",
    "\n",
    "relationships\n",
    "is-a => subclass\n",
    "has-a\n",
    "\"\"\"\n",
    "\n",
    "class Food(object):\n",
    "  # class variable to store total food items created\n",
    "  overall = 0\n",
    "\n",
    "  def __init__(self, name, nutrition, good_until):\n",
    "    self.name = name\n",
    "    self.nutrition = nutrition\n",
    "    self.good_until = good_until\n",
    "    self.age = 0\n",
    "    Food.overall += 1\n",
    "  \n",
    "  def sit_there(self, time):\n",
    "    self.age += time\n",
    "  \n",
    "  def eat(self):\n",
    "    if self.age <= self.good_until:\n",
    "      return self.nutrition\n",
    "    else:\n",
    "      return 0\n",
    "\n",
    "carrot = Food(\"carrot\", 10, 20)\n",
    "orange = Food(\"orange\", 3, 10)\n",
    "print('eat at 0:', orange.eat())\n",
    "orange.sit_there(11)\n",
    "print('eat at 11:', orange.eat())\n",
    "print(orange.overall)"
   ]
  },
  {
   "cell_type": "code",
   "execution_count": 10,
   "metadata": {},
   "outputs": [
    {
     "name": "stdout",
     "output_type": "stream",
     "text": [
      "eat: 0\n",
      "eat aft 6: 4\n",
      "eat aft 10: 4\n",
      "eat aft 11: 0\n"
     ]
    }
   ],
   "source": [
    "# q2\n",
    "\n",
    "class AgedFood(Food):\n",
    "  def __init__(self, name, nutrition, good_until, good_after):\n",
    "    super().__init__(name, nutrition, good_until)\n",
    "    self.good_after = good_after\n",
    "  \n",
    "  def sniff(self):\n",
    "    if self.age >= self.good_after:\n",
    "      return True\n",
    "    else:\n",
    "      return False\n",
    "  \n",
    "  def eat(self):\n",
    "    if self.sniff():\n",
    "      return super().eat()\n",
    "    else:\n",
    "      return 0\n",
    "\n",
    "\n",
    "aged = AgedFood('apple', 4, 10, 5)\n",
    "print('eat:', aged.eat())\n",
    "aged.sit_there(6)\n",
    "print('eat aft 6:', aged.eat())\n",
    "aged.sit_there(4)\n",
    "print('eat aft 10:', aged.eat())\n",
    "aged.sit_there(1)\n",
    "print('eat aft 11:', aged.eat())"
   ]
  },
  {
   "cell_type": "code",
   "execution_count": null,
   "metadata": {},
   "outputs": [
    {
     "name": "stdout",
     "output_type": "stream",
     "text": [
      "50 5.0\n",
      "50 15.0\n",
      "age: 5.0\n"
     ]
    }
   ],
   "source": [
    "# q3\n",
    "# dpesnt make sense that vending machine doesnt get old but food gets old\n",
    "\n",
    "class VendingMachine:\n",
    "  def __init__(self, name, nutrition, good_until):\n",
    "    self.name = name\n",
    "    self.nutrition = nutrition\n",
    "    self.good_until = good_until\n",
    "    self.age = 0\n",
    "  \n",
    "  def sit_there(self, time):\n",
    "    self.age += time / 2\n",
    "  \n",
    "  def sell_food(self):\n",
    "    food = Food(self.name, self.nutrition, self.good_until)\n",
    "    food.age = self.age\n",
    "    return food  # has-a relation\n",
    "\n",
    "vending = VendingMachine('banana', 50, 40)\n",
    "vending.sit_there(10)\n",
    "banana = vending.sell_food()\n",
    "print(banana.eat(), banana.age)\n",
    "banana.sit_there(10)\n",
    "print(banana.eat(), banana.age)\n",
    "print('age:', vending.age)\n"
   ]
  },
  {
   "cell_type": "code",
   "execution_count": 2,
   "metadata": {},
   "outputs": [
    {
     "name": "stdout",
     "output_type": "stream",
     "text": [
      "(('first', 5), ('second', 7), ('third', 9))\n",
      "(('first', 5), ('second', 7), ('third', 9))\n"
     ]
    }
   ],
   "source": [
    "# q4\n",
    "\n",
    "def mapn(fn, lsts):\n",
    "  if len(lsts[0]) == 0:\n",
    "    return ()\n",
    "  return (fn(*tuple(map(lambda x: x[0], lsts))), ) + \\\n",
    "          mapn(fn, tuple(map(lambda x: x[1:], lsts)))\n",
    "\n",
    "print(mapn(lambda x, y, z: (z, x+y), ((1,2,3), (4,5,6), ('first', 'second', 'third'))))\n",
    "\n",
    "# prof code\n",
    "def mapn(fn, lsts):\n",
    "  return tuple(map(fn, *lsts))\n",
    "  \n",
    "print(mapn(lambda x, y, z: (z, x+y), ((1,2,3), (4,5,6), ('first', 'second', 'third'))))"
   ]
  },
  {
   "cell_type": "code",
   "execution_count": null,
   "metadata": {},
   "outputs": [],
   "source": [
    "# q5\n",
    "# use a list to store the food or other things\n",
    "# sell food will return a list of the food items"
   ]
  }
 ],
 "metadata": {
  "kernelspec": {
   "display_name": "Python 3",
   "language": "python",
   "name": "python3"
  },
  "language_info": {
   "codemirror_mode": {
    "name": "ipython",
    "version": 3
   },
   "file_extension": ".py",
   "mimetype": "text/x-python",
   "name": "python",
   "nbconvert_exporter": "python",
   "pygments_lexer": "ipython3",
   "version": "3.12.8"
  }
 },
 "nbformat": 4,
 "nbformat_minor": 2
}
