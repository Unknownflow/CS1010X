{
 "cells": [
  {
   "cell_type": "code",
   "execution_count": 1,
   "metadata": {},
   "outputs": [],
   "source": [
    "# Python Q1\n",
    "function = lambda params: expression"
   ]
  },
  {
   "cell_type": "code",
   "execution_count": 2,
   "metadata": {},
   "outputs": [
    {
     "name": "stdout",
     "output_type": "stream",
     "text": [
      "Q1a 17\n"
     ]
    }
   ],
   "source": [
    "# Problems \n",
    "# Q1a - 17\n",
    "\n",
    "x = 2\n",
    "def f():\n",
    "    x = 5\n",
    "    y = x + 5\n",
    "    return x + y\n",
    "\n",
    "print('Q1a', f() + x)"
   ]
  },
  {
   "cell_type": "code",
   "execution_count": 3,
   "metadata": {},
   "outputs": [
    {
     "name": "stdout",
     "output_type": "stream",
     "text": [
      "Q1b 18\n"
     ]
    }
   ],
   "source": [
    "# Q1b - 18\n",
    "\n",
    "x = 2\n",
    "y = 3\n",
    "def g(x):\n",
    "    y = x + 5\n",
    "    x = 7\n",
    "    return x + y\n",
    "\n",
    "print('Q1b', g(y)+ y)"
   ]
  },
  {
   "cell_type": "code",
   "execution_count": 4,
   "metadata": {},
   "outputs": [
    {
     "name": "stdout",
     "output_type": "stream",
     "text": [
      "Q1c 4\n"
     ]
    }
   ],
   "source": [
    "# Q1c - 4\n",
    "\n",
    "x = 4\n",
    "def foo(x):\n",
    "    return x(3)\n",
    "\n",
    "print('Q1c', foo(lambda x: x+1))"
   ]
  },
  {
   "cell_type": "code",
   "execution_count": 6,
   "metadata": {},
   "outputs": [
    {
     "name": "stdout",
     "output_type": "stream",
     "text": [
      "Q1d 16\n"
     ]
    }
   ],
   "source": [
    "# Q1d - 16\n",
    "\n",
    "x = 5\n",
    "def bar(x, y):\n",
    "    return y(x)\n",
    "\n",
    "print('Q1d', bar(4, lambda x: x ** 2))"
   ]
  },
  {
   "cell_type": "code",
   "execution_count": 7,
   "metadata": {},
   "outputs": [
    {
     "name": "stdout",
     "output_type": "stream",
     "text": [
      "Q2 2\n",
      "Q2 8\n",
      "Q2 20\n",
      "Q2 40\n",
      "Q2 70\n",
      "Q2 112\n",
      "Q2 168\n",
      "Q2 240\n",
      "Q2 330\n"
     ]
    }
   ],
   "source": [
    "# Q2\n",
    "\n",
    "# Iterative\n",
    "# Time Complexity: O(n)\n",
    "# Space Complexity: O(1)\n",
    "def my_sum(n):\n",
    "    result = 0\n",
    "\n",
    "    for i in range(1, n+1):\n",
    "        result += i * (i+1)\n",
    "      \n",
    "    return result\n",
    "\n",
    "# Test cases\n",
    "for i in range(1, 10):\n",
    "    print('Q2', my_sum(i))\n"
   ]
  },
  {
   "cell_type": "code",
   "execution_count": 8,
   "metadata": {},
   "outputs": [
    {
     "name": "stdout",
     "output_type": "stream",
     "text": [
      "Q2 2\n",
      "Q2 8\n",
      "Q2 20\n",
      "Q2 40\n",
      "Q2 70\n",
      "Q2 112\n",
      "Q2 168\n",
      "Q2 240\n",
      "Q2 330\n"
     ]
    }
   ],
   "source": [
    "# Recursive\n",
    "# Time complexity: O(n)\n",
    "# Space complexity: O(n)\n",
    "def my_sum(n):\n",
    "    if n == 1:\n",
    "        return 2\n",
    "    else:\n",
    "        return n * (n+1) + my_sum(n-1)\n",
    "\n",
    "# Test cases\n",
    "for i in range(1, 10):\n",
    "    print('Q2', my_sum(i))"
   ]
  },
  {
   "cell_type": "code",
   "execution_count": 9,
   "metadata": {},
   "outputs": [
    {
     "name": "stdout",
     "output_type": "stream",
     "text": [
      "Q5 2\n",
      "Q5 8\n",
      "Q5 20\n",
      "Q5 40\n",
      "Q5 70\n",
      "Q5 112\n",
      "Q5 168\n",
      "Q5 240\n",
      "Q5 330\n"
     ]
    }
   ],
   "source": [
    "def sum(term, a, next, b):\n",
    "    if a > b:\n",
    "        return 0\n",
    "    else:\n",
    "        return term(a) + sum(term, next(a), next, b)\n",
    "\n",
    "# Q5\n",
    "# T1: lambda x: x * (x+1)\n",
    "# T2: 1\n",
    "# T3: lambda x: x+1\n",
    "# T4: n \n",
    "\n",
    "def my_sum(n):\n",
    "    return sum(lambda x: x * (x+1), 1, lambda x: x+1, n)\n",
    "\n",
    "# Test cases\n",
    "for i in range(1, 10):\n",
    "    print('Q5', my_sum(i))"
   ]
  },
  {
   "cell_type": "code",
   "execution_count": 10,
   "metadata": {},
   "outputs": [
    {
     "name": "stdout",
     "output_type": "stream",
     "text": [
      "Q6 2\n",
      "Q6 8\n",
      "Q6 20\n",
      "Q6 40\n",
      "Q6 70\n",
      "Q6 112\n",
      "Q6 168\n",
      "Q6 240\n",
      "Q6 330\n"
     ]
    }
   ],
   "source": [
    "def fold(op, f, n):\n",
    "    if n == 0:\n",
    "        return f(0)\n",
    "    else:\n",
    "        return op(f(n), fold(op, f, n-1))\n",
    "\n",
    "# Q6\n",
    "# T1: lambda x, y: x+y\n",
    "# T2: lambda x: x * (x+1)\n",
    "# T3: n\n",
    "def my_sum(n):\n",
    "    return fold(lambda x, y: x+y, lambda x: x * (x+1), n)\n",
    "\n",
    "# Test cases\n",
    "for i in range(1, 10):\n",
    "    print('Q6', my_sum(i))"
   ]
  },
  {
   "cell_type": "code",
   "execution_count": 11,
   "metadata": {},
   "outputs": [
    {
     "name": "stdout",
     "output_type": "stream",
     "text": [
      "Q7 2\n",
      "Q7 8\n",
      "Q7 20\n",
      "Q7 40\n",
      "Q7 70\n",
      "Q7 112\n",
      "Q7 168\n",
      "Q7 240\n",
      "Q7 330\n"
     ]
    }
   ],
   "source": [
    "# Q7 Iterative sum\n",
    "def sum(term, a, next, b):\n",
    "    result = 0\n",
    "\n",
    "    while a <= b:\n",
    "        result += term(a)\n",
    "        a = next(a)\n",
    "    \n",
    "    return result\n",
    "\n",
    "for i in range(1, 10):\n",
    "    print('Q7', sum(lambda x: x * (x+1), 1, lambda x: x+1, i))"
   ]
  },
  {
   "cell_type": "code",
   "execution_count": 12,
   "metadata": {},
   "outputs": [
    {
     "name": "stdout",
     "output_type": "stream",
     "text": [
      "Q8 2\n",
      "Q8 8\n",
      "Q8 20\n",
      "Q8 40\n",
      "Q8 70\n",
      "Q8 112\n",
      "Q8 168\n",
      "Q8 240\n",
      "Q8 330\n"
     ]
    }
   ],
   "source": [
    "# Q8 Iterative fold\n",
    "def fold(op, f, n):\n",
    "    result = 0\n",
    "\n",
    "    while n > 0:\n",
    "        result = op(result, f(n))\n",
    "        n -= 1\n",
    "    \n",
    "    return result\n",
    "\n",
    "for i in range(1, 10):\n",
    "    print('Q8', fold(lambda x, y: x+y, lambda x: x * (x+1), i))"
   ]
  }
 ],
 "metadata": {
  "kernelspec": {
   "display_name": "Python 3",
   "language": "python",
   "name": "python3"
  },
  "language_info": {
   "codemirror_mode": {
    "name": "ipython",
    "version": 3
   },
   "file_extension": ".py",
   "mimetype": "text/x-python",
   "name": "python",
   "nbconvert_exporter": "python",
   "pygments_lexer": "ipython3",
   "version": "3.12.8"
  }
 },
 "nbformat": 4,
 "nbformat_minor": 2
}
