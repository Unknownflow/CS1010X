{
 "cells": [
  {
   "cell_type": "markdown",
   "metadata": {},
   "source": [
    "Problems\n",
    "1. Evaluate the following expressions:"
   ]
  },
  {
   "cell_type": "code",
   "execution_count": 77,
   "metadata": {},
   "outputs": [
    {
     "data": {
      "text/plain": [
       "True"
      ]
     },
     "execution_count": 77,
     "metadata": {},
     "output_type": "execute_result"
    }
   ],
   "source": [
    "1 == 1"
   ]
  },
  {
   "cell_type": "code",
   "execution_count": 78,
   "metadata": {},
   "outputs": [
    {
     "name": "stderr",
     "output_type": "stream",
     "text": [
      "<>:1: SyntaxWarning: \"is\" with 'int' literal. Did you mean \"==\"?\n",
      "<>:1: SyntaxWarning: \"is\" with 'int' literal. Did you mean \"==\"?\n",
      "C:\\Users\\clare\\AppData\\Local\\Temp\\ipykernel_19856\\1728060598.py:1: SyntaxWarning: \"is\" with 'int' literal. Did you mean \"==\"?\n",
      "  1 is 1\n"
     ]
    },
    {
     "data": {
      "text/plain": [
       "True"
      ]
     },
     "execution_count": 78,
     "metadata": {},
     "output_type": "execute_result"
    }
   ],
   "source": [
    "1 is 1"
   ]
  },
  {
   "cell_type": "code",
   "execution_count": 79,
   "metadata": {},
   "outputs": [
    {
     "data": {
      "text/plain": [
       "True"
      ]
     },
     "execution_count": 79,
     "metadata": {},
     "output_type": "execute_result"
    }
   ],
   "source": [
    "\"foo\" == 'foo'"
   ]
  },
  {
   "cell_type": "code",
   "execution_count": 80,
   "metadata": {},
   "outputs": [
    {
     "data": {
      "text/plain": [
       "False"
      ]
     },
     "execution_count": 80,
     "metadata": {},
     "output_type": "execute_result"
    }
   ],
   "source": [
    "0 == \"0\""
   ]
  },
  {
   "cell_type": "code",
   "execution_count": 81,
   "metadata": {},
   "outputs": [
    {
     "name": "stderr",
     "output_type": "stream",
     "text": [
      "<>:1: SyntaxWarning: \"is\" with 'int' literal. Did you mean \"==\"?\n",
      "<>:1: SyntaxWarning: \"is\" with 'int' literal. Did you mean \"==\"?\n",
      "C:\\Users\\clare\\AppData\\Local\\Temp\\ipykernel_19856\\1165735807.py:1: SyntaxWarning: \"is\" with 'int' literal. Did you mean \"==\"?\n",
      "  0 is \"0\"\n"
     ]
    },
    {
     "data": {
      "text/plain": [
       "False"
      ]
     },
     "execution_count": 81,
     "metadata": {},
     "output_type": "execute_result"
    }
   ],
   "source": [
    "0 is \"0\""
   ]
  },
  {
   "cell_type": "code",
   "execution_count": 82,
   "metadata": {},
   "outputs": [
    {
     "data": {
      "text/plain": [
       "True"
      ]
     },
     "execution_count": 82,
     "metadata": {},
     "output_type": "execute_result"
    }
   ],
   "source": [
    "False == False"
   ]
  },
  {
   "cell_type": "code",
   "execution_count": 83,
   "metadata": {},
   "outputs": [
    {
     "data": {
      "text/plain": [
       "True"
      ]
     },
     "execution_count": 83,
     "metadata": {},
     "output_type": "execute_result"
    }
   ],
   "source": [
    "False == 0"
   ]
  },
  {
   "cell_type": "code",
   "execution_count": 84,
   "metadata": {},
   "outputs": [
    {
     "data": {
      "text/plain": [
       "False"
      ]
     },
     "execution_count": 84,
     "metadata": {},
     "output_type": "execute_result"
    }
   ],
   "source": [
    "(1, 2) == (1, \"2\")"
   ]
  },
  {
   "cell_type": "code",
   "execution_count": 85,
   "metadata": {},
   "outputs": [
    {
     "name": "stderr",
     "output_type": "stream",
     "text": [
      "<>:1: SyntaxWarning: \"is\" with 'tuple' literal. Did you mean \"==\"?\n",
      "<>:1: SyntaxWarning: \"is\" with 'tuple' literal. Did you mean \"==\"?\n",
      "C:\\Users\\clare\\AppData\\Local\\Temp\\ipykernel_19856\\1321814885.py:1: SyntaxWarning: \"is\" with 'tuple' literal. Did you mean \"==\"?\n",
      "  (1, 2) is (1, 2)\n"
     ]
    },
    {
     "data": {
      "text/plain": [
       "True"
      ]
     },
     "execution_count": 85,
     "metadata": {},
     "output_type": "execute_result"
    }
   ],
   "source": [
    "(1, 2) is (1, 2)"
   ]
  },
  {
   "cell_type": "code",
   "execution_count": 86,
   "metadata": {},
   "outputs": [
    {
     "data": {
      "text/plain": [
       "True"
      ]
     },
     "execution_count": 86,
     "metadata": {},
     "output_type": "execute_result"
    }
   ],
   "source": [
    "(1, 2, 3, 4, 5) == (1, 2, 3, 4, 5)"
   ]
  },
  {
   "cell_type": "code",
   "execution_count": 87,
   "metadata": {},
   "outputs": [
    {
     "data": {
      "text/plain": [
       "False"
      ]
     },
     "execution_count": 87,
     "metadata": {},
     "output_type": "execute_result"
    }
   ],
   "source": [
    "(1, 2, 3, 4, 5) == (1, 2, 3, 5, 4)"
   ]
  },
  {
   "cell_type": "code",
   "execution_count": 88,
   "metadata": {},
   "outputs": [
    {
     "data": {
      "text/plain": [
       "False"
      ]
     },
     "execution_count": 88,
     "metadata": {},
     "output_type": "execute_result"
    }
   ],
   "source": [
    "((1, 2), (2, 3)) == ((1, 2), (3, 2))"
   ]
  },
  {
   "cell_type": "code",
   "execution_count": 89,
   "metadata": {},
   "outputs": [],
   "source": [
    "x = (1, 2)\n",
    "y = (1, 2)\n",
    "z = x"
   ]
  },
  {
   "cell_type": "code",
   "execution_count": 90,
   "metadata": {},
   "outputs": [
    {
     "data": {
      "text/plain": [
       "False"
      ]
     },
     "execution_count": 90,
     "metadata": {},
     "output_type": "execute_result"
    }
   ],
   "source": [
    "x is y"
   ]
  },
  {
   "cell_type": "code",
   "execution_count": 91,
   "metadata": {},
   "outputs": [
    {
     "data": {
      "text/plain": [
       "True"
      ]
     },
     "execution_count": 91,
     "metadata": {},
     "output_type": "execute_result"
    }
   ],
   "source": [
    "x == y"
   ]
  },
  {
   "cell_type": "code",
   "execution_count": 92,
   "metadata": {},
   "outputs": [
    {
     "data": {
      "text/plain": [
       "True"
      ]
     },
     "execution_count": 92,
     "metadata": {},
     "output_type": "execute_result"
    }
   ],
   "source": [
    "x is z"
   ]
  },
  {
   "cell_type": "code",
   "execution_count": 93,
   "metadata": {},
   "outputs": [
    {
     "data": {
      "text/plain": [
       "True"
      ]
     },
     "execution_count": 93,
     "metadata": {},
     "output_type": "execute_result"
    }
   ],
   "source": [
    "3 in (1, 2, 3, 4, 5)"
   ]
  },
  {
   "cell_type": "code",
   "execution_count": 94,
   "metadata": {},
   "outputs": [
    {
     "data": {
      "text/plain": [
       "False"
      ]
     },
     "execution_count": 94,
     "metadata": {},
     "output_type": "execute_result"
    }
   ],
   "source": [
    "(1, 2) in (1, 2, 3, 4, 5)"
   ]
  },
  {
   "cell_type": "code",
   "execution_count": 95,
   "metadata": {},
   "outputs": [
    {
     "data": {
      "text/plain": [
       "True"
      ]
     },
     "execution_count": 95,
     "metadata": {},
     "output_type": "execute_result"
    }
   ],
   "source": [
    "(2) in (1, 2, 3, 4, 5)"
   ]
  },
  {
   "cell_type": "code",
   "execution_count": 96,
   "metadata": {},
   "outputs": [
    {
     "data": {
      "text/plain": [
       "True"
      ]
     },
     "execution_count": 96,
     "metadata": {},
     "output_type": "execute_result"
    }
   ],
   "source": [
    "() == ()"
   ]
  },
  {
   "cell_type": "code",
   "execution_count": 97,
   "metadata": {},
   "outputs": [
    {
     "data": {
      "text/plain": [
       "True"
      ]
     },
     "execution_count": 97,
     "metadata": {},
     "output_type": "execute_result"
    }
   ],
   "source": [
    "(1) == 1"
   ]
  },
  {
   "cell_type": "code",
   "execution_count": 98,
   "metadata": {},
   "outputs": [
    {
     "data": {
      "text/plain": [
       "False"
      ]
     },
     "execution_count": 98,
     "metadata": {},
     "output_type": "execute_result"
    }
   ],
   "source": [
    "(1, ) == 1"
   ]
  },
  {
   "cell_type": "code",
   "execution_count": 99,
   "metadata": {},
   "outputs": [],
   "source": [
    "a = ((1, 2), (3, 4))\n",
    "b = (x, (3, 4))"
   ]
  },
  {
   "cell_type": "code",
   "execution_count": 100,
   "metadata": {},
   "outputs": [
    {
     "data": {
      "text/plain": [
       "True"
      ]
     },
     "execution_count": 100,
     "metadata": {},
     "output_type": "execute_result"
    }
   ],
   "source": [
    "x in a"
   ]
  },
  {
   "cell_type": "code",
   "execution_count": 101,
   "metadata": {},
   "outputs": [
    {
     "data": {
      "text/plain": [
       "True"
      ]
     },
     "execution_count": 101,
     "metadata": {},
     "output_type": "execute_result"
    }
   ],
   "source": [
    "x in b"
   ]
  },
  {
   "cell_type": "markdown",
   "metadata": {},
   "source": [
    "2. The function in will test if an object is inside a tuple by checking for equivalence.\n",
    "Write a function contains that will check if an object is inside a tuple by checking\n",
    "for identity. For example,"
   ]
  },
  {
   "cell_type": "code",
   "execution_count": 102,
   "metadata": {},
   "outputs": [],
   "source": [
    "x = (1, 2)\n",
    "a = ((1, 2), (3, 4))\n",
    "b = (x, (3, 4))\n",
    "# contains (x , a) = > False\n",
    "# contains (x ,b) => True"
   ]
  },
  {
   "cell_type": "code",
   "execution_count": 103,
   "metadata": {},
   "outputs": [
    {
     "name": "stdout",
     "output_type": "stream",
     "text": [
      "False\n",
      "True\n"
     ]
    }
   ],
   "source": [
    "def contains(obj, tup):\n",
    "    for item in tup:\n",
    "        if item is obj:\n",
    "            return True\n",
    "    \n",
    "    return False\n",
    "\n",
    "print(contains(x, a))\n",
    "print(contains(x, b))"
   ]
  },
  {
   "cell_type": "markdown",
   "metadata": {},
   "source": [
    "Write a function deep_contains that will check if an object is nested arbitrarily deep\n",
    "within a tuple. For example,"
   ]
  },
  {
   "cell_type": "code",
   "execution_count": 104,
   "metadata": {},
   "outputs": [],
   "source": [
    "x = (1, 2)\n",
    "a = ((1, 2), ((3, 4), x), (5, 6))\n",
    "# contains(x, a) => False\n",
    "# deep_contains(x, a) => True"
   ]
  },
  {
   "cell_type": "code",
   "execution_count": 105,
   "metadata": {},
   "outputs": [
    {
     "name": "stdout",
     "output_type": "stream",
     "text": [
      "False\n",
      "True\n",
      "False\n"
     ]
    }
   ],
   "source": [
    "def deep_contains(obj, tup):\n",
    "    for item in tup:\n",
    "        if item is obj:\n",
    "            return True\n",
    "        \n",
    "        if type(item) is tuple:\n",
    "            for nested_item in item:\n",
    "                if nested_item is obj:\n",
    "                    return True\n",
    "    \n",
    "    return False\n",
    "\n",
    "print(contains(x, a))\n",
    "print(deep_contains(x, a))\n",
    "print(deep_contains(x, (1,3)))"
   ]
  },
  {
   "cell_type": "markdown",
   "metadata": {},
   "source": [
    "3. The accumulate procedure discussed in lecture is also known as fold_right, because\n",
    "it combines the first element of the sequence with the result of combining all the\n",
    "elements to the right. There is also a fold_left, which is similar to fold_right,\n",
    "except that it combines elements working in the opposite direction:"
   ]
  },
  {
   "cell_type": "code",
   "execution_count": 106,
   "metadata": {},
   "outputs": [],
   "source": [
    "def accumulate (fn , initial , seq ):\n",
    "    if seq == ():\n",
    "        return initial\n",
    "    else :\n",
    "        return fn ( seq [ 0 ] , accumulate ( fn , initial , seq [1 :]))\n",
    "def fold_left ( fn , initial , seq ):\n",
    "    if seq == ():\n",
    "        return initial\n",
    "    else :\n",
    "        return fn ( fold_left (fn , initial , seq [: - 1 ]) , seq [ - 1 ])\n",
    "    \n",
    "\n",
    "def pair(a, b):\n",
    "    return (a, b)\n",
    "\n",
    "def divide(a, b):\n",
    "    return a/b"
   ]
  },
  {
   "cell_type": "code",
   "execution_count": 107,
   "metadata": {},
   "outputs": [
    {
     "data": {
      "text/plain": [
       "1.5"
      ]
     },
     "execution_count": 107,
     "metadata": {},
     "output_type": "execute_result"
    }
   ],
   "source": [
    "accumulate(divide, 1, (1, 2, 3))"
   ]
  },
  {
   "cell_type": "code",
   "execution_count": 108,
   "metadata": {},
   "outputs": [
    {
     "data": {
      "text/plain": [
       "0.16666666666666666"
      ]
     },
     "execution_count": 108,
     "metadata": {},
     "output_type": "execute_result"
    }
   ],
   "source": [
    "fold_left(divide, 1, (1, 2, 3))"
   ]
  },
  {
   "cell_type": "code",
   "execution_count": 109,
   "metadata": {},
   "outputs": [
    {
     "data": {
      "text/plain": [
       "(1, (2, (3, ())))"
      ]
     },
     "execution_count": 109,
     "metadata": {},
     "output_type": "execute_result"
    }
   ],
   "source": [
    "accumulate(pair, (), (1, 2, 3))"
   ]
  },
  {
   "cell_type": "code",
   "execution_count": 110,
   "metadata": {},
   "outputs": [
    {
     "data": {
      "text/plain": [
       "((((), 1), 2), 3)"
      ]
     },
     "execution_count": 110,
     "metadata": {},
     "output_type": "execute_result"
    }
   ],
   "source": [
    "fold_left(pair, (), (1, 2, 3))"
   ]
  },
  {
   "cell_type": "markdown",
   "metadata": {},
   "source": [
    "(b) Give a property that fn should satisfy to guarantee that fold_right (or accumulate)\n",
    "and fold_left will produce the same values for any sequence."
   ]
  },
  {
   "cell_type": "code",
   "execution_count": 111,
   "metadata": {},
   "outputs": [
    {
     "name": "stdout",
     "output_type": "stream",
     "text": [
      "6\n",
      "6\n",
      "6\n",
      "6\n"
     ]
    }
   ],
   "source": [
    "print(accumulate(lambda x, y: x+y, 0, (1, 2, 3)))\n",
    "print(fold_left(lambda x, y: x+y, 0, (1, 2, 3)))\n",
    "print(accumulate(lambda x, y: x*y, 1, (1, 2, 3)))\n",
    "print(fold_left(lambda x, y: x*y, 1, (1, 2, 3)))\n",
    "\n",
    "# fn should be cumulative (like addition, subtraction) \n",
    "# instead of subtraction and division for the values to be \n",
    "# the same for any sequence"
   ]
  },
  {
   "cell_type": "markdown",
   "metadata": {},
   "source": [
    "4. A queue is a data structure that stores elements in order. Elements are enqueued\n",
    "onto the tail of the queue. Elements are dequeued from the head of the queue.\n",
    "Thus, the rst element enqueued is also the rst element dequeued (FIFO, rst-in-\n",
    "rst-out). The qhead operation is used to get the element at the head of the queue.\n",
    "qhead ( enqueue (5 , empty_queue ()))\n",
    "##### Value : 5\n",
    "q = enqueue (4 , enqueue (5 , enqueue (6 , empty_queue ())))\n",
    "qhead (q)\n",
    "##### Value : 6\n",
    "qhead ( dequeue (q ))\n",
    "##### Value : 5"
   ]
  },
  {
   "cell_type": "code",
   "execution_count": 112,
   "metadata": {},
   "outputs": [],
   "source": [
    "# Q4a - Array\n",
    "\n",
    "# Q4b empty_queue fn\n",
    "def empty_queue():\n",
    "    return []\n",
    "\n",
    "# Time: O(1)\n",
    "# Space: O(1)"
   ]
  },
  {
   "cell_type": "code",
   "execution_count": 113,
   "metadata": {},
   "outputs": [
    {
     "name": "stdout",
     "output_type": "stream",
     "text": [
      "[6, [5, [4, []]]]\n"
     ]
    }
   ],
   "source": [
    "# Q4c - enqueue fn\n",
    "def enqueue(x, q):\n",
    "    # empty queue\n",
    "    if q == []:\n",
    "        return [x, empty_queue()]\n",
    "    \n",
    "    ptr = q\n",
    "    while ptr[1] != []:\n",
    "        ptr = ptr[1]\n",
    "\n",
    "    ptr[1] = [x, empty_queue()]\n",
    "\n",
    "    return q \n",
    "\n",
    "q = enqueue(4, enqueue(5, enqueue(6, empty_queue())))\n",
    "print(q)\n",
    "\n",
    "# Time: O(n)\n",
    "# Space: O(n)"
   ]
  },
  {
   "cell_type": "code",
   "execution_count": 114,
   "metadata": {},
   "outputs": [],
   "source": [
    "# Q4d - dequeue fn\n",
    "def dequeue(q):\n",
    "    return q[1:][0]\n",
    "\n",
    "# Time: O(n)\n",
    "# Space: O(n)"
   ]
  },
  {
   "cell_type": "code",
   "execution_count": 115,
   "metadata": {},
   "outputs": [
    {
     "name": "stdout",
     "output_type": "stream",
     "text": [
      "6\n",
      "5\n"
     ]
    }
   ],
   "source": [
    "# Q4e - qhead fn\n",
    "def qhead(q):\n",
    "    return q[0]\n",
    "\n",
    "print(qhead(q))\n",
    "print(qhead(dequeue(q)))\n",
    "\n",
    "# Time: O(1)\n",
    "# Space: O(1)"
   ]
  },
  {
   "cell_type": "code",
   "execution_count": 116,
   "metadata": {},
   "outputs": [],
   "source": [
    "x = (1, 2, 3, 4, 5, 6, 7)\n",
    "\n",
    "def accumulate(fn, initial, seq):\n",
    "  if seq == ():\n",
    "    return initial\n",
    "  else:\n",
    "    return fn(seq[0], accumulate(fn, initial, seq[1:]))\n",
    "  \n",
    "def map(fn, seq):\n",
    "  if seq == ():\n",
    "    return ()\n",
    "  else:\n",
    "    return (fn(seq[0]), ) + map(fn, seq[1:])\n",
    "  \n",
    "def filter(predicate, seq):\n",
    "  if seq == ():\n",
    "    return ()\n",
    "  else:\n",
    "    if predicate(seq[0]):\n",
    "      return (seq[0], ) + filter(predicate, seq[1:])\n",
    "    else:\n",
    "      return filter(predicate, seq[1:])"
   ]
  },
  {
   "cell_type": "code",
   "execution_count": 117,
   "metadata": {},
   "outputs": [
    {
     "data": {
      "text/plain": [
       "(1, 4, 9, 16, 25, 36, 49)"
      ]
     },
     "execution_count": 117,
     "metadata": {},
     "output_type": "execute_result"
    }
   ],
   "source": [
    "# Q5a\n",
    "map(lambda x: x*x, x)"
   ]
  },
  {
   "cell_type": "code",
   "execution_count": 118,
   "metadata": {},
   "outputs": [
    {
     "data": {
      "text/plain": [
       "(1, 3, 5, 7)"
      ]
     },
     "execution_count": 118,
     "metadata": {},
     "output_type": "execute_result"
    }
   ],
   "source": [
    "# Q5b\n",
    "filter(lambda x: x%2==1, x)"
   ]
  },
  {
   "cell_type": "code",
   "execution_count": 119,
   "metadata": {},
   "outputs": [
    {
     "data": {
      "text/plain": [
       "((1, 1), (2, 2), (3, 3), (4, 4), (5, 5), (6, 6), (7, 7))"
      ]
     },
     "execution_count": 119,
     "metadata": {},
     "output_type": "execute_result"
    }
   ],
   "source": [
    "# Q5c\n",
    "map(lambda x: (x, x), x)"
   ]
  },
  {
   "cell_type": "code",
   "execution_count": 120,
   "metadata": {},
   "outputs": [
    {
     "data": {
      "text/plain": [
       "((2, 4), 6)"
      ]
     },
     "execution_count": 120,
     "metadata": {},
     "output_type": "execute_result"
    }
   ],
   "source": [
    "# Q5d\n",
    "(filter(lambda x: x == 2 or x == 4, x),) + filter(lambda x: x == 6, x)"
   ]
  },
  {
   "cell_type": "code",
   "execution_count": 129,
   "metadata": {},
   "outputs": [
    {
     "data": {
      "text/plain": [
       "(((2,), 4), 6)"
      ]
     },
     "execution_count": 129,
     "metadata": {},
     "output_type": "execute_result"
    }
   ],
   "source": [
    "# Q5e\n",
    "accumulate(lambda x, y: (y,x) if y != \"\" else (x,), \"\", filter(lambda x: x % 2 == 0, x)[::-1])"
   ]
  },
  {
   "cell_type": "code",
   "execution_count": 46,
   "metadata": {},
   "outputs": [
    {
     "name": "stdout",
     "output_type": "stream",
     "text": [
      "The maximum element of x: 7\n"
     ]
    }
   ],
   "source": [
    "# Q5f\n",
    "print('The maximum element of x:', \n",
    "      max(filter(lambda x: x, x)))"
   ]
  },
  {
   "cell_type": "code",
   "execution_count": 47,
   "metadata": {},
   "outputs": [
    {
     "name": "stdout",
     "output_type": "stream",
     "text": [
      "The minimum element of x: 1\n"
     ]
    }
   ],
   "source": [
    "# Q5g\n",
    "print('The minimum element of x:', \n",
    "      min(filter(lambda x: x, x)))"
   ]
  },
  {
   "cell_type": "code",
   "execution_count": 48,
   "metadata": {},
   "outputs": [
    {
     "name": "stdout",
     "output_type": "stream",
     "text": [
      "The maximum squared even element of x: 36\n"
     ]
    }
   ],
   "source": [
    "# Q5h\n",
    "print('The maximum squared even element of x:', \n",
    "      max(filter(lambda x: x%2==0, map(lambda x: x*x, x))))"
   ]
  },
  {
   "cell_type": "code",
   "execution_count": 49,
   "metadata": {},
   "outputs": [
    {
     "name": "stdout",
     "output_type": "stream",
     "text": [
      "The sum of the square of each value in x: 140\n"
     ]
    }
   ],
   "source": [
    "# Q5i\n",
    "print('The sum of the square of each value in x:',\n",
    "      accumulate(lambda x, y: x+y, 0, map(lambda x: x*x, x)))"
   ]
  }
 ],
 "metadata": {
  "kernelspec": {
   "display_name": "Python 3",
   "language": "python",
   "name": "python3"
  },
  "language_info": {
   "codemirror_mode": {
    "name": "ipython",
    "version": 3
   },
   "file_extension": ".py",
   "mimetype": "text/x-python",
   "name": "python",
   "nbconvert_exporter": "python",
   "pygments_lexer": "ipython3",
   "version": "3.12.8"
  }
 },
 "nbformat": 4,
 "nbformat_minor": 2
}
