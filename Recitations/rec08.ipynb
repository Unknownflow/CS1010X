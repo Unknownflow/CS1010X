{
 "cells": [
  {
   "cell_type": "code",
   "execution_count": 3,
   "metadata": {},
   "outputs": [
    {
     "name": "stdout",
     "output_type": "stream",
     "text": [
      "4\n",
      "7\n",
      "apple\n",
      "orange\n",
      "5\n",
      "bad\n",
      "1\n",
      "2\n",
      "4\n",
      "7\n",
      "better\n",
      "good\n",
      "('orange', 5, 1)\n",
      "[4, 7, 'good']\n"
     ]
    }
   ],
   "source": [
    "# q1\n",
    "\n",
    "a = ((\"apple\", 2), (\"orange\", 4), (5 , 7))\n",
    "b = dict(a)\n",
    "c = [[1, 2], [3, 4], [5, 7]]\n",
    "d = dict(c)\n",
    "print(b[\"orange\"])\n",
    "print(b[5])\n",
    "# print(b[1]) KeyError: 1\n",
    "\n",
    "b[\"bad\"] = \"better\"\n",
    "b[1] = \"good\"\n",
    "for key in b.keys():\n",
    "  print(key)\n",
    "for val in b.values():\n",
    "  print(val)\n",
    "del b[\"bad\"]\n",
    "del b[\"apple\"]\n",
    "print(tuple(b.keys()))\n",
    "print(list(b.values()))"
   ]
  },
  {
   "cell_type": "code",
   "execution_count": null,
   "metadata": {},
   "outputs": [
    {
     "name": "stdout",
     "output_type": "stream",
     "text": [
      "True\n",
      "2\n",
      "2\n",
      "None\n",
      "None\n"
     ]
    }
   ],
   "source": [
    "# q2\n",
    "\n",
    "def make_stack():\n",
    "  stack = []\n",
    "  def dispatch(op):\n",
    "    if op == \"is_empty\":\n",
    "      return len(stack) == 0\n",
    "    elif op == \"clear\":\n",
    "      stack.clear()\n",
    "    elif op == \"peek\":\n",
    "      if dispatch(\"is_empty\"):\n",
    "        return None\n",
    "      else:\n",
    "        return stack[-1]\n",
    "    elif op == \"push\":\n",
    "      def helper(item):\n",
    "        stack.append(item)\n",
    "        return\n",
    "      return helper\n",
    "    elif op == \"pop\":\n",
    "      if dispatch(\"is_empty\"):\n",
    "        return None\n",
    "      else:\n",
    "        popped = stack.pop()\n",
    "        return popped\n",
    "\n",
    "  return dispatch\n",
    "\n",
    "# test code\n",
    "s = make_stack()\n",
    "print(s(\"is_empty\")) # True\n",
    "s(\"push\")(1)\n",
    "s(\"push\")(2)\n",
    "print(s(\"peek\")) # 2\n",
    "print(str(s(\"pop\"))) # 2\n",
    "print(str(s(\"pop\"))) # 1\n",
    "print(str(s(\"pop\"))) # None"
   ]
  },
  {
   "cell_type": "code",
   "execution_count": 12,
   "metadata": {},
   "outputs": [
    {
     "data": {
      "text/plain": [
       "5"
      ]
     },
     "execution_count": 12,
     "metadata": {},
     "output_type": "execute_result"
    }
   ],
   "source": [
    "# q3\n",
    "\n",
    "def push_all(stack, seq):\n",
    "  for item in seq:\n",
    "    stack(\"push\")(item)\n",
    "  return stack\n",
    "\n",
    "stack = make_stack()\n",
    "push_all(stack, [1,2,3,4,5])\n",
    "stack(\"peek\")"
   ]
  },
  {
   "cell_type": "code",
   "execution_count": 13,
   "metadata": {},
   "outputs": [
    {
     "data": {
      "text/plain": [
       "[5, 4, 3, 2, 1]"
      ]
     },
     "execution_count": 13,
     "metadata": {},
     "output_type": "execute_result"
    }
   ],
   "source": [
    "# q4\n",
    "\n",
    "def pop_all(stack):\n",
    "  res = []\n",
    "  while not stack(\"is_empty\"):\n",
    "    popped = stack(\"pop\")\n",
    "    res.append(popped)\n",
    "  return res\n",
    "\n",
    "pop_all(stack)"
   ]
  },
  {
   "cell_type": "code",
   "execution_count": 25,
   "metadata": {},
   "outputs": [
    {
     "name": "stdout",
     "output_type": "stream",
     "text": [
      "empty_stack\n",
      "pushed\n",
      "4\n",
      "pushed\n",
      "5\n",
      "pushed\n",
      "9\n",
      "pushed\n",
      "pushed\n",
      "2\n",
      "cleared\n",
      "empty_stack\n"
     ]
    }
   ],
   "source": [
    "# q5\n",
    "\n",
    "def make_calculator(): # an RPN calculator\n",
    "  stack = make_stack()\n",
    "  ops = {\"+\": lambda x, y: x+y,\n",
    "         \"-\": lambda x, y: x-y,\n",
    "         \"*\": lambda x, y: x*y,\n",
    "         \"/\": lambda x, y: x/y}\n",
    "  \n",
    "  def oplookup(msg, *args):\n",
    "    if msg == \"ANSWER\":\n",
    "      res = stack(\"peek\")\n",
    "      if res:\n",
    "        return res\n",
    "      else:\n",
    "        return \"empty_stack\"\n",
    "    elif msg == \"NUMBER_INPUT\":\n",
    "      num = args[0]\n",
    "      stack(\"push\")(num)\n",
    "      return \"pushed\"\n",
    "    elif msg == \"OPERATION_INPUT\":\n",
    "      op_input = args[0]\n",
    "      op = ops[op_input]\n",
    "      num1 = stack(\"pop\")\n",
    "      num2 = stack(\"pop\")\n",
    "      res = op(num2, num1)\n",
    "      stack(\"push\")(res)\n",
    "      return \"pushed\"\n",
    "    elif msg == \"CLEAR\":\n",
    "      stack(\"clear\")\n",
    "      return \"cleared\"\n",
    "    else:\n",
    "      raise Exception(\"calculator doesn't\" + msg)\n",
    "  return oplookup\n",
    "\n",
    "# testing code\n",
    "c = make_calculator()\n",
    "print(c('ANSWER')) # empty_stack\n",
    "print(c('NUMBER_INPUT', 4)) # pushed\n",
    "print(c('ANSWER')) # 4\n",
    "print(c('NUMBER_INPUT', 5)) # pushed\n",
    "print(c('ANSWER')) # 5\n",
    "print(c('OPERATION_INPUT', '+')) # pushed\n",
    "print(c('ANSWER')) # 9\n",
    "print(c('NUMBER_INPUT', 7)) # pushed\n",
    "print(c('OPERATION_INPUT', '-')) # pushed\n",
    "print(c('ANSWER')) # 2\n",
    "print(c('CLEAR')) # cleared\n",
    "print(c('ANSWER')) # empty_stack"
   ]
  },
  {
   "cell_type": "code",
   "execution_count": null,
   "metadata": {},
   "outputs": [],
   "source": []
  }
 ],
 "metadata": {
  "kernelspec": {
   "display_name": "Python 3",
   "language": "python",
   "name": "python3"
  },
  "language_info": {
   "codemirror_mode": {
    "name": "ipython",
    "version": 3
   },
   "file_extension": ".py",
   "mimetype": "text/x-python",
   "name": "python",
   "nbconvert_exporter": "python",
   "pygments_lexer": "ipython3",
   "version": "3.12.8"
  }
 },
 "nbformat": 4,
 "nbformat_minor": 2
}
